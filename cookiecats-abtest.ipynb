{
 "cells": [
  {
   "cell_type": "markdown",
   "id": "92f54b50-5cce-462a-a9d7-b29798ed912c",
   "metadata": {},
   "source": [
    "## 라이브러리"
   ]
  },
  {
   "cell_type": "code",
   "execution_count": 1,
   "id": "c076607e-fd6c-4ffb-b8ce-b4a8ed746e88",
   "metadata": {},
   "outputs": [],
   "source": [
    "import pandas as pd\n",
    "import numpy as np\n",
    "import matplotlib.pyplot as plt\n",
    "import seaborn as sns\n",
    "\n",
    "plt.rc(\"font\", family = \"Malgun Gothic\")\n",
    "plt.rcParams[\"axes.unicode_minus\"] = False"
   ]
  },
  {
   "cell_type": "markdown",
   "id": "08a3bdae-92f0-4d3a-ba6b-c964c6280be7",
   "metadata": {},
   "source": [
    "## 데이터 불러오기"
   ]
  },
  {
   "cell_type": "code",
   "execution_count": 2,
   "id": "7cc83687-a5e9-4e27-8d5d-265f0bea746c",
   "metadata": {},
   "outputs": [
    {
     "data": {
      "text/html": [
       "<div>\n",
       "<style scoped>\n",
       "    .dataframe tbody tr th:only-of-type {\n",
       "        vertical-align: middle;\n",
       "    }\n",
       "\n",
       "    .dataframe tbody tr th {\n",
       "        vertical-align: top;\n",
       "    }\n",
       "\n",
       "    .dataframe thead th {\n",
       "        text-align: right;\n",
       "    }\n",
       "</style>\n",
       "<table border=\"1\" class=\"dataframe\">\n",
       "  <thead>\n",
       "    <tr style=\"text-align: right;\">\n",
       "      <th></th>\n",
       "      <th>userid</th>\n",
       "      <th>version</th>\n",
       "      <th>sum_gamerounds</th>\n",
       "      <th>retention_1</th>\n",
       "      <th>retention_7</th>\n",
       "    </tr>\n",
       "  </thead>\n",
       "  <tbody>\n",
       "    <tr>\n",
       "      <th>0</th>\n",
       "      <td>116</td>\n",
       "      <td>gate_30</td>\n",
       "      <td>3</td>\n",
       "      <td>False</td>\n",
       "      <td>False</td>\n",
       "    </tr>\n",
       "    <tr>\n",
       "      <th>1</th>\n",
       "      <td>337</td>\n",
       "      <td>gate_30</td>\n",
       "      <td>38</td>\n",
       "      <td>True</td>\n",
       "      <td>False</td>\n",
       "    </tr>\n",
       "    <tr>\n",
       "      <th>2</th>\n",
       "      <td>377</td>\n",
       "      <td>gate_40</td>\n",
       "      <td>165</td>\n",
       "      <td>True</td>\n",
       "      <td>False</td>\n",
       "    </tr>\n",
       "    <tr>\n",
       "      <th>3</th>\n",
       "      <td>483</td>\n",
       "      <td>gate_40</td>\n",
       "      <td>1</td>\n",
       "      <td>False</td>\n",
       "      <td>False</td>\n",
       "    </tr>\n",
       "    <tr>\n",
       "      <th>4</th>\n",
       "      <td>488</td>\n",
       "      <td>gate_40</td>\n",
       "      <td>179</td>\n",
       "      <td>True</td>\n",
       "      <td>True</td>\n",
       "    </tr>\n",
       "  </tbody>\n",
       "</table>\n",
       "</div>"
      ],
      "text/plain": [
       "   userid  version  sum_gamerounds  retention_1  retention_7\n",
       "0     116  gate_30               3        False        False\n",
       "1     337  gate_30              38         True        False\n",
       "2     377  gate_40             165         True        False\n",
       "3     483  gate_40               1        False        False\n",
       "4     488  gate_40             179         True         True"
      ]
     },
     "execution_count": 2,
     "metadata": {},
     "output_type": "execute_result"
    }
   ],
   "source": [
    "# 데이터 불러오기\n",
    "abtest_df = pd.read_csv('./data/cookie_cats.txt')\n",
    "abtest_df.head()"
   ]
  },
  {
   "cell_type": "markdown",
   "id": "dde41020-512a-4be7-83b3-406734a6ea7f",
   "metadata": {},
   "source": [
    "- userid : 사용자 ID\n",
    "- version : gate 위치에 따른 플레이어 실험 그룹(A/B 테스트 그룹)\n",
    "- sum_gamerounds : 설치 후 14일 동안 플레이한 총 게임 라운드 수\n",
    "- retention_1 : 설치 1일 후에도 다시 게임을 플레이했는지 여부 (True/False)\n",
    "- retention_7 : 설치 7일 후에도 다시 게임을 플레이했는지 여부 (True/False)"
   ]
  },
  {
   "cell_type": "code",
   "execution_count": 3,
   "id": "dd622b8e-a554-45b8-ad75-87cc60e81098",
   "metadata": {},
   "outputs": [
    {
     "name": "stdout",
     "output_type": "stream",
     "text": [
      "<class 'pandas.core.frame.DataFrame'>\n",
      "RangeIndex: 90189 entries, 0 to 90188\n",
      "Data columns (total 5 columns):\n",
      " #   Column          Non-Null Count  Dtype \n",
      "---  ------          --------------  ----- \n",
      " 0   userid          90189 non-null  int64 \n",
      " 1   version         90189 non-null  object\n",
      " 2   sum_gamerounds  90189 non-null  int64 \n",
      " 3   retention_1     90189 non-null  bool  \n",
      " 4   retention_7     90189 non-null  bool  \n",
      "dtypes: bool(2), int64(2), object(1)\n",
      "memory usage: 2.2+ MB\n"
     ]
    }
   ],
   "source": [
    "# 데이터 정보 확인\n",
    "abtest_df.info()"
   ]
  },
  {
   "cell_type": "markdown",
   "id": "cc5cc381-3857-4ee0-a17e-804330832f04",
   "metadata": {},
   "source": [
    "결측값 없음"
   ]
  },
  {
   "cell_type": "code",
   "execution_count": 4,
   "id": "8a56152b-19de-409e-ab60-9b48fbd03191",
   "metadata": {},
   "outputs": [
    {
     "data": {
      "text/html": [
       "<div>\n",
       "<style scoped>\n",
       "    .dataframe tbody tr th:only-of-type {\n",
       "        vertical-align: middle;\n",
       "    }\n",
       "\n",
       "    .dataframe tbody tr th {\n",
       "        vertical-align: top;\n",
       "    }\n",
       "\n",
       "    .dataframe thead th {\n",
       "        text-align: right;\n",
       "    }\n",
       "</style>\n",
       "<table border=\"1\" class=\"dataframe\">\n",
       "  <thead>\n",
       "    <tr style=\"text-align: right;\">\n",
       "      <th></th>\n",
       "      <th>userid</th>\n",
       "      <th>version</th>\n",
       "      <th>sum_gamerounds</th>\n",
       "      <th>retention_1</th>\n",
       "      <th>retention_7</th>\n",
       "    </tr>\n",
       "  </thead>\n",
       "  <tbody>\n",
       "    <tr>\n",
       "      <th>count</th>\n",
       "      <td>9.018900e+04</td>\n",
       "      <td>90189</td>\n",
       "      <td>90189.000000</td>\n",
       "      <td>90189</td>\n",
       "      <td>90189</td>\n",
       "    </tr>\n",
       "    <tr>\n",
       "      <th>unique</th>\n",
       "      <td>NaN</td>\n",
       "      <td>2</td>\n",
       "      <td>NaN</td>\n",
       "      <td>2</td>\n",
       "      <td>2</td>\n",
       "    </tr>\n",
       "    <tr>\n",
       "      <th>top</th>\n",
       "      <td>NaN</td>\n",
       "      <td>gate_40</td>\n",
       "      <td>NaN</td>\n",
       "      <td>False</td>\n",
       "      <td>False</td>\n",
       "    </tr>\n",
       "    <tr>\n",
       "      <th>freq</th>\n",
       "      <td>NaN</td>\n",
       "      <td>45489</td>\n",
       "      <td>NaN</td>\n",
       "      <td>50036</td>\n",
       "      <td>73408</td>\n",
       "    </tr>\n",
       "    <tr>\n",
       "      <th>mean</th>\n",
       "      <td>4.998412e+06</td>\n",
       "      <td>NaN</td>\n",
       "      <td>51.872457</td>\n",
       "      <td>NaN</td>\n",
       "      <td>NaN</td>\n",
       "    </tr>\n",
       "    <tr>\n",
       "      <th>std</th>\n",
       "      <td>2.883286e+06</td>\n",
       "      <td>NaN</td>\n",
       "      <td>195.050858</td>\n",
       "      <td>NaN</td>\n",
       "      <td>NaN</td>\n",
       "    </tr>\n",
       "    <tr>\n",
       "      <th>min</th>\n",
       "      <td>1.160000e+02</td>\n",
       "      <td>NaN</td>\n",
       "      <td>0.000000</td>\n",
       "      <td>NaN</td>\n",
       "      <td>NaN</td>\n",
       "    </tr>\n",
       "    <tr>\n",
       "      <th>25%</th>\n",
       "      <td>2.512230e+06</td>\n",
       "      <td>NaN</td>\n",
       "      <td>5.000000</td>\n",
       "      <td>NaN</td>\n",
       "      <td>NaN</td>\n",
       "    </tr>\n",
       "    <tr>\n",
       "      <th>50%</th>\n",
       "      <td>4.995815e+06</td>\n",
       "      <td>NaN</td>\n",
       "      <td>16.000000</td>\n",
       "      <td>NaN</td>\n",
       "      <td>NaN</td>\n",
       "    </tr>\n",
       "    <tr>\n",
       "      <th>75%</th>\n",
       "      <td>7.496452e+06</td>\n",
       "      <td>NaN</td>\n",
       "      <td>51.000000</td>\n",
       "      <td>NaN</td>\n",
       "      <td>NaN</td>\n",
       "    </tr>\n",
       "    <tr>\n",
       "      <th>max</th>\n",
       "      <td>9.999861e+06</td>\n",
       "      <td>NaN</td>\n",
       "      <td>49854.000000</td>\n",
       "      <td>NaN</td>\n",
       "      <td>NaN</td>\n",
       "    </tr>\n",
       "  </tbody>\n",
       "</table>\n",
       "</div>"
      ],
      "text/plain": [
       "              userid  version  sum_gamerounds retention_1 retention_7\n",
       "count   9.018900e+04    90189    90189.000000       90189       90189\n",
       "unique           NaN        2             NaN           2           2\n",
       "top              NaN  gate_40             NaN       False       False\n",
       "freq             NaN    45489             NaN       50036       73408\n",
       "mean    4.998412e+06      NaN       51.872457         NaN         NaN\n",
       "std     2.883286e+06      NaN      195.050858         NaN         NaN\n",
       "min     1.160000e+02      NaN        0.000000         NaN         NaN\n",
       "25%     2.512230e+06      NaN        5.000000         NaN         NaN\n",
       "50%     4.995815e+06      NaN       16.000000         NaN         NaN\n",
       "75%     7.496452e+06      NaN       51.000000         NaN         NaN\n",
       "max     9.999861e+06      NaN    49854.000000         NaN         NaN"
      ]
     },
     "execution_count": 4,
     "metadata": {},
     "output_type": "execute_result"
    }
   ],
   "source": [
    "# 데이터 기초 통계량 확인\n",
    "abtest_df.describe(include='all')"
   ]
  },
  {
   "cell_type": "code",
   "execution_count": 5,
   "id": "daa33945-cce6-41e3-be6f-703a18a598ea",
   "metadata": {},
   "outputs": [
    {
     "data": {
      "text/plain": [
       "version\n",
       "gate_40    45489\n",
       "gate_30    44700\n",
       "Name: count, dtype: int64"
      ]
     },
     "execution_count": 5,
     "metadata": {},
     "output_type": "execute_result"
    }
   ],
   "source": [
    "# Gate 30과 Gate 40의 분배 확인\n",
    "abtest_df['version'].value_counts()"
   ]
  },
  {
   "cell_type": "markdown",
   "id": "a1206b84-86d7-423a-9450-b17ff3397449",
   "metadata": {},
   "source": [
    "## 데이터 전처리"
   ]
  },
  {
   "cell_type": "markdown",
   "id": "9075f0cd-aa53-469a-bc9a-1134c5a1fb0c",
   "metadata": {},
   "source": [
    "### 중복값 확인"
   ]
  },
  {
   "cell_type": "code",
   "execution_count": 6,
   "id": "395f011e-10f9-43a3-b311-47fed6130461",
   "metadata": {},
   "outputs": [
    {
     "name": "stdout",
     "output_type": "stream",
     "text": [
      "중복된 행 개수 : 0\n",
      "중복 제거 후 데이터 크기 : 90189행\n"
     ]
    }
   ],
   "source": [
    "# 중복값 확인\n",
    "duplicate_rows = abtest_df.duplicated().sum()\n",
    "print(f\"중복된 행 개수 : {duplicate_rows}\")\n",
    "\n",
    "# 중복값이 있는 경우 제거\n",
    "if duplicate_rows > 0:\n",
    "    abtest_df = abtest_df.drop_duplicates()\n",
    "    print(\"중복된 행 제거 완료\")\n",
    "\n",
    "# 중복값 제거 후 데이터 크기 비교\n",
    "print(f\"중복 제거 후 데이터 크기 : {abtest_df.shape[0]}행\")"
   ]
  },
  {
   "cell_type": "markdown",
   "id": "d30b688a-34e4-4516-b2ae-8716d72349ea",
   "metadata": {},
   "source": [
    "### 이상치 확인"
   ]
  },
  {
   "cell_type": "code",
   "execution_count": 7,
   "id": "652ffdb8-a01d-4238-a473-e123d4b6221d",
   "metadata": {},
   "outputs": [
    {
     "data": {
      "image/png": "[encoded data removed]",
      "text/plain": [
       "<Figure size 800x500 with 1 Axes>"
      ]
     },
     "metadata": {},
     "output_type": "display_data"
    }
   ],
   "source": [
    "# 이상치 시각화 (Box Plot)\n",
    "plt.figure(figsize=(8, 5))\n",
    "sns.boxplot(x=abtest_df[\"sum_gamerounds\"])\n",
    "plt.title(\"이상치 제거 전 총 게임 라운드 수 박스 플롯\")\n",
    "plt.xlabel(\"총 게임 라운드 수\")\n",
    "plt.show()"
   ]
  },
  {
   "cell_type": "code",
   "execution_count": 8,
   "id": "8d68b785-a2a2-4a6b-95dd-3f5f60b6edd1",
   "metadata": {},
   "outputs": [
    {
     "name": "stdout",
     "output_type": "stream",
     "text": [
      "발견된 이상치 값 : 49854 회\n"
     ]
    }
   ],
   "source": [
    "# 1개의 이상치 확인\n",
    "max_value = abtest_df[\"sum_gamerounds\"].max()\n",
    "print(f\"발견된 이상치 값 : {max_value} 회\")\n",
    "\n",
    "# 이상치 제거\n",
    "abtest_df = abtest_df[abtest_df[\"sum_gamerounds\"] != max_value]"
   ]
  },
  {
   "cell_type": "markdown",
   "id": "b286bdda-5e34-4155-a414-07a63662a280",
   "metadata": {},
   "source": [
    "- 대부분의 데이터는 총 게임 라운드 수가 3,000 회를 넘지 않음\n",
    "- 반면, 한 개의 데이터에서 49,854 회라는 비정상적으로 큰 값이 확인됨\n",
    "- 일반적인 플레이 패턴과 크게 벗어나므로 이상치로 판단하여 제거함"
   ]
  },
  {
   "cell_type": "code",
   "execution_count": 9,
   "id": "f47b9730-83e1-4200-9e6a-c2167dfc5270",
   "metadata": {},
   "outputs": [
    {
     "data": {
      "image/png": "[encoded data removed]",
      "text/plain": [
       "<Figure size 800x500 with 1 Axes>"
      ]
     },
     "metadata": {},
     "output_type": "display_data"
    }
   ],
   "source": [
    "# 이상치 제거 후 Box Plot 다시 그리기\n",
    "plt.figure(figsize=(8, 5))\n",
    "sns.boxplot(x=abtest_df[\"sum_gamerounds\"])\n",
    "plt.title(\"이상치 제거 후 총 게임 라운드 수 박스 플롯\")\n",
    "plt.xlabel(\"총 게임 라운드 수\")\n",
    "plt.show()"
   ]
  },
  {
   "cell_type": "markdown",
   "id": "2ae51202-8211-40de-9fd1-11ff2ac35afa",
   "metadata": {},
   "source": [
    "### 총 게임 라운드 수에 따른 유저 수"
   ]
  },
  {
   "cell_type": "code",
   "execution_count": 10,
   "id": "e7ebed4a-afea-4754-8513-e0866268383f",
   "metadata": {},
   "outputs": [
    {
     "data": {
      "image/png": "[encoded data removed]",
      "text/plain": [
       "<Figure size 1000x600 with 1 Axes>"
      ]
     },
     "metadata": {},
     "output_type": "display_data"
    }
   ],
   "source": [
    "# 총 게임 라운드 수에 따른 유저 수 계산 (더 촘촘한 bin 설정)\n",
    "bins = np.arange(0, abtest_df['sum_gamerounds'].max() + 1, 1)\n",
    "counts, bin_edges = np.histogram(abtest_df['sum_gamerounds'], bins=bins)\n",
    "\n",
    "# 각 구간의 중앙값을 x축 값으로 사용\n",
    "bin_centers = (bin_edges[:-1] + bin_edges[1:]) / 2\n",
    "\n",
    "# 선 그래프 그리기\n",
    "plt.figure(figsize=(10, 6))\n",
    "plt.plot(bin_centers, counts)\n",
    "\n",
    "# 그래프 설정\n",
    "plt.title(\"총 게임 라운드 수에 따른 유저 수 분포\")\n",
    "plt.xlabel(\"총 게임 라운드 수\")\n",
    "plt.ylabel(\"유저 수\")\n",
    "plt.grid(True)\n",
    "\n",
    "# 그래프 출력\n",
    "plt.show()"
   ]
  },
  {
   "cell_type": "code",
   "execution_count": 11,
   "id": "6e9d1344-5f42-4543-8650-b4193a4327ae",
   "metadata": {},
   "outputs": [
    {
     "data": {
      "image/png": "[encoded data removed]",
      "text/plain": [
       "<Figure size 1000x600 with 1 Axes>"
      ]
     },
     "metadata": {},
     "output_type": "display_data"
    }
   ],
   "source": [
    "# 총 게임 라운드 수에 따른 유저 수 계산(0~50)\n",
    "bins = np.arange(0, abtest_df['sum_gamerounds'].max() + 1, 1)\n",
    "counts, bin_edges = np.histogram(abtest_df['sum_gamerounds'], bins=bins)\n",
    "\n",
    "# 각 구간의 중앙값을 x축 값으로 사용\n",
    "bin_centers = (bin_edges[:-1] + bin_edges[1:]) / 2\n",
    "\n",
    "# 선 그래프 그리기\n",
    "plt.figure(figsize=(10, 6))\n",
    "plt.plot(bin_centers, counts)\n",
    "\n",
    "# X축 범위 제한\n",
    "plt.xlim(0, 50)\n",
    "\n",
    "# 그래프 설정\n",
    "plt.title(\"총 게임 라운드 수에 따른 유저 수 분포\")\n",
    "plt.xlabel(\"총 게임 라운드 수\")\n",
    "plt.ylabel(\"유저 수\")\n",
    "plt.grid(True)\n",
    "\n",
    "# 그래프 출력\n",
    "plt.show()"
   ]
  },
  {
   "cell_type": "code",
   "execution_count": 12,
   "id": "27186f4a-80e2-4252-8254-6010152d3f81",
   "metadata": {},
   "outputs": [
    {
     "name": "stdout",
     "output_type": "stream",
     "text": [
      "총 게임 라운드 수가 0회인 유저 수 : 3994명\n"
     ]
    }
   ],
   "source": [
    "# 총 게임 라운드 수가 0인 유저 수 계산\n",
    "zero_round_users = len(abtest_df[abtest_df['sum_gamerounds'] == 0])\n",
    "\n",
    "# 결과 출력\n",
    "print(f\"총 게임 라운드 수가 0회인 유저 수 : {zero_round_users}명\")"
   ]
  },
  {
   "cell_type": "markdown",
   "id": "ab0d4be9-69d7-4823-9a18-2b7af5e029e0",
   "metadata": {},
   "source": [
    "- 총 게임 라운드 수가 0회인 유저도 다수 존재함\n",
    "- 이는 게임을 설치하고 한 번도 플레이하지 않은 유저를 의미함\n",
    "- 데이터 확인 결과, 총 3,994명의 유저가 해당됨\n",
    "\n",
    "본 데이터는 A/B 테스트 결과 분석을 위한 것이므로 게임 설치 후 한 번도 플레이하지 않은 유저에 대한 분석은 다른 데이터로 진행하도록 함"
   ]
  },
  {
   "cell_type": "markdown",
   "id": "f36cab4c-229c-4276-9f4a-0ae29b084be4",
   "metadata": {},
   "source": [
    "#### **선택지 분석**\n",
    "- `sum_gamerounds ≥ 30` : Gate 30의 유저 이탈률을 비교적 정확하게 볼 수 있지만, Gate 40 그룹에서는 일부 유저가 Gate를 경험하지 않았을 가능성이 있음.\n",
    "- `sum_gamerounds ≥ 40` : 모든 유저가 Gate를 경험했을 가능성이 높지만, Gate 30 그룹의 초반 이탈 유저가 제외되어 비교가 왜곡될 수 있음.\n",
    "- `sum_gamerounds = level`이 아니므로, 두 선택지 모두 반복적으로 실패한 유저는 여전히 Gate를 만나지 못했을 가능성이 있음.\n",
    "\n",
    "→ `sum_gamerounds ≥ 40`을 사용하면 대부분의 유저가 Gate를 경험한 후 이탈률을 비교할 수 있어 A/B 테스트의 공정성이 높아짐"
   ]
  },
  {
   "cell_type": "code",
   "execution_count": 13,
   "id": "ccdabfbe-62f6-452e-bbc6-06f0b941990a",
   "metadata": {},
   "outputs": [
    {
     "name": "stdout",
     "output_type": "stream",
     "text": [
      "필터링 후 데이터 크기 : 27392\n"
     ]
    }
   ],
   "source": [
    "# 두 그룹을 동일한 기준으로 필터링\n",
    "abtest_df_filtered = abtest_df[abtest_df['sum_gamerounds'] >= 40]\n",
    "print(f\"필터링 후 데이터 크기 : {len(abtest_df_filtered)}\")"
   ]
  },
  {
   "cell_type": "markdown",
   "id": "81b7546a-38fb-43e8-948e-3cc024ffff48",
   "metadata": {},
   "source": [
    "전처리 전 90,189행 → 전처리 후 27,392행 (약 2.76배 감소)"
   ]
  },
  {
   "cell_type": "code",
   "execution_count": 14,
   "id": "17a93653-a210-4482-806e-9218505a57a7",
   "metadata": {},
   "outputs": [],
   "source": [
    "# 데이터프레임 복사\n",
    "abtest_df = abtest_df_filtered.reset_index(drop=True).copy()"
   ]
  },
  {
   "cell_type": "markdown",
   "id": "1d47ec47-45ad-477d-81f4-0e5932963f0b",
   "metadata": {},
   "source": [
    "- 레벨 30 Gate와 레벨 40 Gate의 효과를 검증해야 하는데 많은 유저의 총 게임 라운드 수가 30회 미만임\n",
    "- A/B 테스트 결과의 정확성을 높이기 위해 **총 게임 라운드 수가 40 미만인 유저를 제외**함\n",
    "- version별로 서로 다른 기준을 적용하지 않은 이유는 A/B 테스트에서 두 그룹을 동일한 조건에서 비교하는 것이 더 공정하기 때문"
   ]
  },
  {
   "cell_type": "code",
   "execution_count": 15,
   "id": "79d03018-a6cf-42f4-be7d-8d4701b2a4fc",
   "metadata": {},
   "outputs": [
    {
     "data": {
      "text/plain": [
       "version\n",
       "gate_40    13827\n",
       "gate_30    13565\n",
       "Name: count, dtype: int64"
      ]
     },
     "execution_count": 15,
     "metadata": {},
     "output_type": "execute_result"
    }
   ],
   "source": [
    "# Gate 30과 Gate 40의 분배 확인\n",
    "abtest_df['version'].value_counts()"
   ]
  },
  {
   "cell_type": "markdown",
   "id": "40e864b8-fc6f-4a10-9f82-cd9ed0d30099",
   "metadata": {},
   "source": [
    "버전별 분포는 유사해 보이지만 통계적 검정을 통해 추가로 확인함"
   ]
  },
  {
   "cell_type": "code",
   "execution_count": 16,
   "id": "68a17bd7-5d74-404c-a105-a90091c0587c",
   "metadata": {},
   "outputs": [
    {
     "name": "stdout",
     "output_type": "stream",
     "text": [
      "Chi-square test statistic: 2.5060\n",
      "P-value: 0.1134\n",
      "샘플 크기 차이가 통계적으로 유의미하지 않음\n"
     ]
    }
   ],
   "source": [
    "import scipy.stats as stats\n",
    "\n",
    "# 두 그룹의 샘플 크기\n",
    "gate_30_size = abtest_df['version'].value_counts()['gate_30']\n",
    "gate_40_size = abtest_df['version'].value_counts()['gate_40']\n",
    "\n",
    "# 카이제곱 검정으로 샘플 크기 차이가 유의미한지 확인\n",
    "chi2, p_value = stats.chisquare([gate_30_size, gate_40_size])\n",
    "\n",
    "# 결과 출력\n",
    "print(f\"Chi-square test statistic: {chi2:.4f}\")\n",
    "print(f\"P-value: {p_value:.4f}\")\n",
    "\n",
    "# 유의미한 차이 여부 확인\n",
    "if p_value < 0.05:\n",
    "    print(\"샘플 크기 차이가 통계적으로 유의미함\")\n",
    "else:\n",
    "    print(\"샘플 크기 차이가 통계적으로 유의미하지 않음\")"
   ]
  },
  {
   "cell_type": "markdown",
   "id": "1c9f5a49-27d0-4d7b-ba9a-fc40a75e774b",
   "metadata": {},
   "source": [
    "샘플 크기 차이가 통계적으로 유의미하지 않으므로 데이터를 그대로 사용하기로 결정함"
   ]
  },
  {
   "cell_type": "markdown",
   "id": "fa71d51e-f9fb-4d54-b3bf-bb974265e7ba",
   "metadata": {},
   "source": [
    "## 가설 설정 및 검증"
   ]
  },
  {
   "cell_type": "code",
   "execution_count": 17,
   "id": "7df6045c-c63b-461f-8c9e-082afa83e092",
   "metadata": {},
   "outputs": [
    {
     "data": {
      "text/html": [
       "<div>\n",
       "<style scoped>\n",
       "    .dataframe tbody tr th:only-of-type {\n",
       "        vertical-align: middle;\n",
       "    }\n",
       "\n",
       "    .dataframe tbody tr th {\n",
       "        vertical-align: top;\n",
       "    }\n",
       "\n",
       "    .dataframe thead th {\n",
       "        text-align: right;\n",
       "    }\n",
       "</style>\n",
       "<table border=\"1\" class=\"dataframe\">\n",
       "  <thead>\n",
       "    <tr style=\"text-align: right;\">\n",
       "      <th>retention_7</th>\n",
       "      <th>False</th>\n",
       "      <th>True</th>\n",
       "    </tr>\n",
       "    <tr>\n",
       "      <th>retention_1</th>\n",
       "      <th></th>\n",
       "      <th></th>\n",
       "    </tr>\n",
       "  </thead>\n",
       "  <tbody>\n",
       "    <tr>\n",
       "      <th>False</th>\n",
       "      <td>2613</td>\n",
       "      <td>1937</td>\n",
       "    </tr>\n",
       "    <tr>\n",
       "      <th>True</th>\n",
       "      <td>11251</td>\n",
       "      <td>11591</td>\n",
       "    </tr>\n",
       "  </tbody>\n",
       "</table>\n",
       "</div>"
      ],
      "text/plain": [
       "retention_7  False  True \n",
       "retention_1              \n",
       "False         2613   1937\n",
       "True         11251  11591"
      ]
     },
     "execution_count": 17,
     "metadata": {},
     "output_type": "execute_result"
    }
   ],
   "source": [
    "# 1일차 리텐션과 7일차 리텐션의 교차표 생성\n",
    "abtest_df.groupby(['retention_1', 'retention_7']).size().unstack()"
   ]
  },
  {
   "cell_type": "markdown",
   "id": "014366a8-e522-4cc6-b52c-6640a3341f91",
   "metadata": {},
   "source": [
    "### 가설 1 : Gate 위치 변경이 유저의 평균 게임 라운드 수에 유의미한 영향을 미칠 것이다"
   ]
  },
  {
   "cell_type": "markdown",
   "id": "791dfd8f-35cf-4a69-8611-e161aa617963",
   "metadata": {},
   "source": [
    "독립표본 t-검정(T-test) 수행\n",
    "- 귀무가설(H₀): Gate 30 그룹과 Gate 40 그룹의 평균 게임 플레이 횟수는 차이가 없다.\n",
    "- 대립가설(H₁): Gate 30 그룹과 Gate 40 그룹의 평균 게임 플레이 횟수는 차이가 있다."
   ]
  },
  {
   "cell_type": "code",
   "execution_count": 18,
   "id": "ff0c37f4-d418-4036-8c38-6ac1e6918855",
   "metadata": {},
   "outputs": [
    {
     "name": "stdout",
     "output_type": "stream",
     "text": [
      "         sum_gamerounds\n",
      "version                \n",
      "gate_30      142.048802\n",
      "gate_40      142.667824\n"
     ]
    }
   ],
   "source": [
    "# 그룹별 평균 게임 플레이 횟수 계산\n",
    "gamerounds_means = abtest_df.groupby(\"version\")[['sum_gamerounds']].mean()\n",
    "\n",
    "# 결과 출력\n",
    "print(gamerounds_means)"
   ]
  },
  {
   "cell_type": "code",
   "execution_count": 19,
   "id": "da761a81-2b7a-4172-9828-9ee50fd751c8",
   "metadata": {},
   "outputs": [
    {
     "name": "stdout",
     "output_type": "stream",
     "text": [
      "[독립표본 t-검정 결과]\n",
      "t-통계량: -0.3411\n",
      "p-값: 0.7330\n",
      "두 그룹 간 평균 게임 라운드 수에 유의미한 차이가 없음(X)\n"
     ]
    }
   ],
   "source": [
    "from scipy.stats import ttest_ind\n",
    "\n",
    "# Control(gate_30)과 Treatment(gate_40) 그룹의 평균 게임 라운드 수\n",
    "control_time = abtest_df[abtest_df['version'] == 'gate_30']['sum_gamerounds']\n",
    "treatment_time = abtest_df[abtest_df['version'] == 'gate_40']['sum_gamerounds']\n",
    "\n",
    "# 독립표본 t-검정 수행\n",
    "t_stat, p_value = ttest_ind(control_time, treatment_time, equal_var=False)\n",
    "\n",
    "# 결과 출력\n",
    "print(\"[독립표본 t-검정 결과]\")\n",
    "print(f\"t-통계량: {t_stat:.4f}\")\n",
    "print(f\"p-값: {p_value:.4f}\")\n",
    "\n",
    "# 유의수준 0.05 하에서 유의미한 차이가 있는지 판단\n",
    "if p_value < 0.05:\n",
    "    print(\"두 그룹 간 평균 게임 라운드 수에 유의미한 차이가 있음(O)\")\n",
    "else:\n",
    "    print(\"두 그룹 간 평균 게임 라운드 수에 유의미한 차이가 없음(X)\")"
   ]
  },
  {
   "cell_type": "markdown",
   "id": "698f5f27-77b8-4804-8c38-813dfcf435e0",
   "metadata": {},
   "source": [
    "### 가설 2 : Gate의 위치가 유저의 리텐션(1일차, 7일차)에 유의미한 영향을 미칠 것이다"
   ]
  },
  {
   "cell_type": "markdown",
   "id": "956eb0e3-cf52-4156-ab6a-c86c9f2d7d15",
   "metadata": {},
   "source": [
    "카이제곱 검정(Chi-Square Test) 수행(1일차, 7일차)\n",
    "- 귀무가설(H₀): Gate 30과 Gate 40 그룹의 리텐션은 유의미한 차이가 없다.\n",
    "- 대립가설(H₁): Gate 30과 Gate 40 그룹의 리텐션은 유의미한 차이가 있다."
   ]
  },
  {
   "cell_type": "code",
   "execution_count": 20,
   "id": "6bfbf9a9-4aaa-4bda-9abc-a4698addfa27",
   "metadata": {},
   "outputs": [
    {
     "name": "stdout",
     "output_type": "stream",
     "text": [
      "         retention_1  retention_7\n",
      "version                          \n",
      "gate_30     0.837670     0.502838\n",
      "gate_40     0.830187     0.485065\n"
     ]
    }
   ],
   "source": [
    "# 그룹별 1일차 및 7일차 리텐션 평균 계산\n",
    "retention_means = abtest_df.groupby(\"version\")[[\"retention_1\", \"retention_7\"]].mean()\n",
    "\n",
    "# 결과 출력\n",
    "print(retention_means)"
   ]
  },
  {
   "cell_type": "code",
   "execution_count": 21,
   "id": "d973bf8c-7e1b-407f-b16d-15e61922d573",
   "metadata": {},
   "outputs": [
    {
     "name": "stdout",
     "output_type": "stream",
     "text": [
      "\n",
      "[카이제곱 검정 결과 - 1일차 리텐션]\n",
      "카이제곱 통계량: 2.7144\n",
      "p-값: 0.0994\n",
      "두 그룹 간 1일차 리텐션에 유의미한 차이가 없음(X)\n",
      "\n",
      "[카이제곱 검정 결과 - 7일차 리텐션]\n",
      "카이제곱 통계량: 8.5819\n",
      "p-값: 0.0034\n",
      "두 그룹 간 7일차 리텐션에 유의미한 차이가 있음(O)\n"
     ]
    }
   ],
   "source": [
    "from scipy.stats import chi2_contingency\n",
    "\n",
    "# 1일차 리텐션 데이터 교차표 생성\n",
    "contingency_1 = pd.crosstab(abtest_df['version'], abtest_df['retention_1'])\n",
    "\n",
    "# 7일차 리텐션 데이터 교차표 생성\n",
    "contingency_7 = pd.crosstab(abtest_df['version'], abtest_df['retention_7'])\n",
    "\n",
    "# 카이제곱 검정 수행\n",
    "chi2_1, p_1, _, _ = chi2_contingency(contingency_1)\n",
    "chi2_7, p_7, _, _ = chi2_contingency(contingency_7)\n",
    "\n",
    "# 1일차 리텐션\n",
    "print(\"\\n[카이제곱 검정 결과 - 1일차 리텐션]\")\n",
    "print(f\"카이제곱 통계량: {chi2_1:.4f}\")\n",
    "print(f\"p-값: {p_1:.4f}\")\n",
    "if p_1 < 0.05:\n",
    "    print(\"두 그룹 간 1일차 리텐션에 유의미한 차이가 있음(O)\")\n",
    "else:\n",
    "    print(\"두 그룹 간 1일차 리텐션에 유의미한 차이가 없음(X)\")\n",
    "\n",
    "# 7일차 리텐션\n",
    "print(\"\\n[카이제곱 검정 결과 - 7일차 리텐션]\")\n",
    "print(f\"카이제곱 통계량: {chi2_7:.4f}\")\n",
    "print(f\"p-값: {p_7:.4f}\")\n",
    "if p_7 < 0.05:\n",
    "    print(\"두 그룹 간 7일차 리텐션에 유의미한 차이가 있음(O)\")\n",
    "else:\n",
    "    print(\"두 그룹 간 7일차 리텐션에 유의미한 차이가 없음(X)\")"
   ]
  },
  {
   "cell_type": "markdown",
   "id": "a252fbd1-4167-471e-a3ee-2b24468e32b6",
   "metadata": {},
   "source": [
    "### 가설 3 : 유저 세그먼트에 따라 Gate 40이 7일차 리텐션에 미치는 영향이 다를 것이다"
   ]
  },
  {
   "cell_type": "markdown",
   "id": "07ac79d2-e3a8-43bd-a3a8-8d24e402109e",
   "metadata": {},
   "source": [
    "유저 세그먼트 방법 : 게임 라운드 수의 상위 10%는 헤비 유저, 나머지는 라이트 유저로 구분"
   ]
  },
  {
   "cell_type": "code",
   "execution_count": 22,
   "id": "45859601-549e-4ac0-86f5-72ce7fa457ad",
   "metadata": {},
   "outputs": [
    {
     "name": "stdout",
     "output_type": "stream",
     "text": [
      "헤비 유저 기준 라운드 수 : 297.0\n"
     ]
    }
   ],
   "source": [
    "heavy_threshold = abtest_df[\"sum_gamerounds\"].quantile(0.90)  # 90% 분위수\n",
    "print(f\"헤비 유저 기준 라운드 수 : {heavy_threshold}\")"
   ]
  },
  {
   "cell_type": "code",
   "execution_count": 23,
   "id": "e219fad4-8ee8-437f-a0c2-e4e9eca88f01",
   "metadata": {},
   "outputs": [
    {
     "data": {
      "text/html": [
       "<div>\n",
       "<style scoped>\n",
       "    .dataframe tbody tr th:only-of-type {\n",
       "        vertical-align: middle;\n",
       "    }\n",
       "\n",
       "    .dataframe tbody tr th {\n",
       "        vertical-align: top;\n",
       "    }\n",
       "\n",
       "    .dataframe thead th {\n",
       "        text-align: right;\n",
       "    }\n",
       "</style>\n",
       "<table border=\"1\" class=\"dataframe\">\n",
       "  <thead>\n",
       "    <tr style=\"text-align: right;\">\n",
       "      <th></th>\n",
       "      <th>sum_gamerounds</th>\n",
       "      <th>user_segment</th>\n",
       "    </tr>\n",
       "  </thead>\n",
       "  <tbody>\n",
       "    <tr>\n",
       "      <th>0</th>\n",
       "      <td>165</td>\n",
       "      <td>Light Users</td>\n",
       "    </tr>\n",
       "    <tr>\n",
       "      <th>1</th>\n",
       "      <td>179</td>\n",
       "      <td>Light Users</td>\n",
       "    </tr>\n",
       "    <tr>\n",
       "      <th>2</th>\n",
       "      <td>187</td>\n",
       "      <td>Light Users</td>\n",
       "    </tr>\n",
       "    <tr>\n",
       "      <th>3</th>\n",
       "      <td>108</td>\n",
       "      <td>Light Users</td>\n",
       "    </tr>\n",
       "    <tr>\n",
       "      <th>4</th>\n",
       "      <td>153</td>\n",
       "      <td>Light Users</td>\n",
       "    </tr>\n",
       "  </tbody>\n",
       "</table>\n",
       "</div>"
      ],
      "text/plain": [
       "   sum_gamerounds user_segment\n",
       "0             165  Light Users\n",
       "1             179  Light Users\n",
       "2             187  Light Users\n",
       "3             108  Light Users\n",
       "4             153  Light Users"
      ]
     },
     "execution_count": 23,
     "metadata": {},
     "output_type": "execute_result"
    }
   ],
   "source": [
    "# 헤비 유저 기준 설정 (90% 분위수)\n",
    "heavy_threshold = abtest_df[\"sum_gamerounds\"].quantile(0.90)\n",
    "\n",
    "# 유저 세그먼트 컬럼 추가\n",
    "abtest_df[\"user_segment\"] = abtest_df[\"sum_gamerounds\"].apply(lambda x: \"Heavy Users\" if x >= heavy_threshold else \"Light Users\")\n",
    "\n",
    "# 결과 확인\n",
    "abtest_df[[\"sum_gamerounds\", \"user_segment\"]].head()"
   ]
  },
  {
   "cell_type": "markdown",
   "id": "2222ace0-3205-42e1-beef-826f2433ab3c",
   "metadata": {},
   "source": [
    "카이제곱 검정(Chi-Square Test) 수행(라이트, 헤비 유저)\n",
    "- 귀무가설(H₀): Gate 40은 유저 세그먼트별 7일차 리텐션에 유의미한 영향을 미치지 않는다.\n",
    "- 대립가설(H₁): Gate 40은 유저 세그먼트별 7일차 리텐션에 유의미한 영향을 미친다."
   ]
  },
  {
   "cell_type": "code",
   "execution_count": 24,
   "id": "a54955a6-89c1-455a-817d-8accab3310d3",
   "metadata": {},
   "outputs": [
    {
     "name": "stdout",
     "output_type": "stream",
     "text": [
      "                      retention_1  retention_7\n",
      "version user_segment                          \n",
      "gate_30 Heavy Users      0.946260     0.901235\n",
      "        Light Users      0.825402     0.457827\n",
      "gate_40 Heavy Users      0.949451     0.912821\n",
      "        Light Users      0.817124     0.438212\n"
     ]
    }
   ],
   "source": [
    "# 그룹별 1일차 및 7일차 리텐션 평균 계산\n",
    "segment_retention_means = abtest_df.groupby([\"version\", \"user_segment\"])[[\"retention_1\", \"retention_7\"]].mean()\n",
    "\n",
    "# 결과 출력\n",
    "print(segment_retention_means)"
   ]
  },
  {
   "cell_type": "code",
   "execution_count": 34,
   "id": "4986cfbb-87ed-478b-8991-b5cf4c02b390",
   "metadata": {},
   "outputs": [
    {
     "name": "stdout",
     "output_type": "stream",
     "text": [
      "\n",
      "[카이제곱 검정 결과 - 유저 세그먼트 Light Users 1일차 리텐션]\n",
      "카이제곱 검정 결과: p-value = 0.0931\n",
      "두 그룹 간 리텐션율에 유의미한 차이가 없음(X)\n",
      "\n",
      "[카이제곱 검정 결과 - 유저 세그먼트 Heavy Users 1일차 리텐션]\n",
      "카이제곱 검정 결과: p-value = 0.7720\n",
      "두 그룹 간 리텐션율에 유의미한 차이가 없음(X)\n"
     ]
    }
   ],
   "source": [
    "# 각 세그먼트에서 A/B 테스트 비교 - 1일차 리텐션\n",
    "for segment in abtest_df[\"user_segment\"].unique():\n",
    "    print(f\"\\n[카이제곱 검정 결과 - 유저 세그먼트 {segment} 1일차 리텐션]\")\n",
    "\n",
    "    segment_data = abtest_df[abtest_df[\"user_segment\"] == segment]\n",
    "    contingency_table = pd.crosstab(segment_data[\"version\"], segment_data[\"retention_1\"])\n",
    "    \n",
    "    chi2, p, _, _ = chi2_contingency(contingency_table)\n",
    "    \n",
    "    print(f\"카이제곱 검정 결과: p-value = {p:.4f}\")\n",
    "    if p < 0.05:\n",
    "        print(\"두 그룹 간 리텐션율에 유의미한 차이가 있음(O)\")\n",
    "    else:\n",
    "        print(\"두 그룹 간 리텐션율에 유의미한 차이가 없음(X)\")"
   ]
  },
  {
   "cell_type": "code",
   "execution_count": 35,
   "id": "fc584958-9281-4719-bfc4-78ae01ccf7f8",
   "metadata": {},
   "outputs": [
    {
     "name": "stdout",
     "output_type": "stream",
     "text": [
      "\n",
      "[카이제곱 검정 결과 - 유저 세그먼트 Light Users 7일차 리텐션]\n",
      "카이제곱 검정 결과: p-value = 0.0020\n",
      "두 그룹 간 리텐션율에 유의미한 차이가 있음(O)\n",
      "\n",
      "[카이제곱 검정 결과 - 유저 세그먼트 Heavy Users 7일차 리텐션]\n",
      "카이제곱 검정 결과: p-value = 0.3277\n",
      "두 그룹 간 리텐션율에 유의미한 차이가 없음(X)\n"
     ]
    }
   ],
   "source": [
    "# 각 세그먼트에서 A/B 테스트 비교 - 7일차 리텐션\n",
    "for segment in abtest_df[\"user_segment\"].unique():\n",
    "    print(f\"\\n[카이제곱 검정 결과 - 유저 세그먼트 {segment} 7일차 리텐션]\")\n",
    "\n",
    "    segment_data = abtest_df[abtest_df[\"user_segment\"] == segment]\n",
    "    contingency_table = pd.crosstab(segment_data[\"version\"], segment_data[\"retention_7\"])\n",
    "    \n",
    "    chi2, p, _, _ = chi2_contingency(contingency_table)\n",
    "    \n",
    "    print(f\"카이제곱 검정 결과: p-value = {p:.4f}\")\n",
    "    if p < 0.05:\n",
    "        print(\"두 그룹 간 리텐션율에 유의미한 차이가 있음(O)\")\n",
    "    else:\n",
    "        print(\"두 그룹 간 리텐션율에 유의미한 차이가 없음(X)\")"
   ]
  },
  {
   "cell_type": "markdown",
   "id": "164961ea-ae24-4aa9-9660-e1db4e755ffb",
   "metadata": {},
   "source": [
    "## 시각화"
   ]
  },
  {
   "cell_type": "markdown",
   "id": "b5de673d-2c59-4c68-b255-4743d99a301e",
   "metadata": {},
   "source": [
    "### 특정 사용자 그룹의 행동 패턴 분석"
   ]
  },
  {
   "cell_type": "code",
   "execution_count": 27,
   "id": "4b7d7799-b88c-49ef-898b-84beaf0f259f",
   "metadata": {},
   "outputs": [
    {
     "data": {
      "image/png": "[encoded data removed]",
      "text/plain": [
       "<Figure size 800x500 with 1 Axes>"
      ]
     },
     "metadata": {},
     "output_type": "display_data"
    }
   ],
   "source": [
    "# 유저 세그먼트별 총 게임 라운드 수\n",
    "plt.figure(figsize=(8,5))\n",
    "sns.boxplot(x=\"user_segment\", y=\"sum_gamerounds\", data=abtest_df)\n",
    "plt.title(\"유저 세그먼트별 총 게임 라운드 수\")\n",
    "plt.show()"
   ]
  },
  {
   "cell_type": "markdown",
   "id": "98a3c664-2564-4292-aba1-135d7ea7d815",
   "metadata": {},
   "source": [
    "## 인사이트 도출"
   ]
  },
  {
   "cell_type": "markdown",
   "id": "6366b645-d1c8-4469-8ca8-598a0fbdf3f1",
   "metadata": {},
   "source": [
    "#### 1. Gate 위치 변경이 유저의 평균 게임 라운드 수에 미치는 영향\n",
    "- Gate 30과 Gate 40의 평균 게임 라운드 수 차이는 유의미하지 않음 (p = 0.7330)\n",
    "- Gate 위치 변경이 게임 참여도를 높이는 전략으로는 효과적이지 않음"
   ]
  },
  {
   "cell_type": "markdown",
   "id": "e61a9bd1-1a5c-40cb-a3a8-5cd867d550fd",
   "metadata": {},
   "source": [
    "#### 2. Gate 위치 변경이 유저 리텐션(1일차, 7일차)에 미치는 영향\n",
    "- 1일차 리텐션 : 유의미한 차이 없음 (p = 0.0994) → Gate 40으로 변경해도 초기 유지율 변화 없음\n",
    "- 7일차 리텐션 : 유의미한 차이 있음 (p = 0.0034) → Gate 40에서 7일차 리텐션 감소 (50.28% → 48.51%)\n",
    "    - Gate 40이 장기적인 유저 유지율을 낮추는 원인일 가능성이 높음"
   ]
  },
  {
   "cell_type": "markdown",
   "id": "079a695a-9c53-49c8-b0d2-baecebd7b963",
   "metadata": {},
   "source": [
    "7일차 리텐션 감소는 **쾌락적 적응(Hedonic Adaptation)** 이론으로 설명 가능\n",
    "\n",
    "- Gate가 늦게 등장하면 유저가 몰입하기 전에 흥미를 잃고 이탈할 가능성이 커짐\n",
    "- 반면, Gate 30처럼 초반에 장애물이 주어지면 유저가 게임을 쉬면서 즐거움을 유지할 가능성이 높아짐"
   ]
  },
  {
   "cell_type": "markdown",
   "id": "eaecbd9f-83d4-4719-bfb5-a08654475a43",
   "metadata": {},
   "source": [
    "#### 3. 유저 세그먼트별 Gate 40의 7일차 리텐션 영향\n",
    "- 헤비 유저 (Heavy Users) : Gate 위치 변경이 영향을 주지 않음 (p = 0.3277)\n",
    "    - 헤비 유저는 Gate와 관계없이 지속적으로 플레이하는 경향이 있음\n",
    "- 라이트 유저 (Light Users) : Gate 40에서 7일차 리텐션 감소 (p = 0.0020)\n",
    "    - Gate 40이 초반 이탈 가능성이 높은 유저들에게 부정적인 영향을 미침\n",
    "    - 라이트 유저의 장기 유지율을 고려하면 Gate 30이 더 적절한 선택일 가능성이 높음"
   ]
  },
  {
   "cell_type": "markdown",
   "id": "9a82b22f-bf68-4eca-893a-c1dc14307937",
   "metadata": {},
   "source": [
    "## 결론 및 액션 제안"
   ]
  },
  {
   "cell_type": "markdown",
   "id": "3dc71658-0e82-4940-a10a-8afb4bd5d20e",
   "metadata": {},
   "source": [
    "#### 1. Gate 40으로 변경 시 7일차 리텐션 감소 → 이탈 방지 대책 필요  \n",
    "- 라이트 유저의 이탈을 줄이기 위해 보상 시스템 강화 및 게임 내 가이드 제공 필요  \n",
    "\n",
    "#### 2. Gate 위치 변경만으로 플레이 횟수가 증가하지 않음 → 대체 전략 필요  \n",
    "- 게임 플레이 횟수를 늘리려면 보상 시스템 도입 및 신규 콘텐츠 추가가 필요  \n",
    "\n",
    "#### 3. 헤비 유저는 Gate 위치와 관계없이 지속적으로 플레이 → 유료 전환율 분석 필요  \n",
    "- 프리미엄 콘텐츠 도입 및 Gate를 활용한 유료 아이템 구매 유도 전략 검토\n",
    "\n",
    "#### 4. 추가적인 A/B 테스트 및 데이터 분석을 통해 최적의 Gate 위치 검토 필요  \n",
    "- Gate를 Level 20에 배치하는 실험 진행 및 Gate가 유저 결제 비율 및 장기적인 매출에 미치는 영향 분석  \n",
    "\n",
    "결론적으로, Gate 30을 유지하는 것이 리텐션을 높이는 데 효과적이며, 추가적인 실험을 통해 최적의 Gate 위치 및 유료 전환율 전략을 검토해야 함\n"
   ]
  }
 ],
 "metadata": {
  "kernelspec": {
   "display_name": "Python 3 (ipykernel)",
   "language": "python",
   "name": "python3"
  },
  "language_info": {
   "codemirror_mode": {
    "name": "ipython",
    "version": 3
   },
   "file_extension": ".py",
   "mimetype": "text/x-python",
   "name": "python",
   "nbconvert_exporter": "python",
   "pygments_lexer": "ipython3",
   "version": "3.12.7"
  }
 },
 "nbformat": 4,
 "nbformat_minor": 5
}
